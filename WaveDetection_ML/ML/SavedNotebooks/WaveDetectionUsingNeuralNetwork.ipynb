{
  "cells": [
    {
      "cell_type": "code",
      "execution_count": 3,
      "metadata": {
        "id": "QLEPq288rLOy"
      },
      "outputs": [
        {
          "ename": "ModuleNotFoundError",
          "evalue": "No module named 'tensorflow.compat'",
          "output_type": "error",
          "traceback": [
            "\u001b[1;31m---------------------------------------------------------------------------\u001b[0m",
            "\u001b[1;31mModuleNotFoundError\u001b[0m                       Traceback (most recent call last)",
            "Cell \u001b[1;32mIn[3], line 16\u001b[0m\n\u001b[0;32m     14\u001b[0m \u001b[39mimport\u001b[39;00m \u001b[39mos\u001b[39;00m\n\u001b[0;32m     15\u001b[0m os\u001b[39m.\u001b[39menviron[\u001b[39m'\u001b[39m\u001b[39mKMP_DUPLICATE_LIB_OK\u001b[39m\u001b[39m'\u001b[39m]\u001b[39m=\u001b[39m\u001b[39m'\u001b[39m\u001b[39mTrue\u001b[39m\u001b[39m'\u001b[39m\n\u001b[1;32m---> 16\u001b[0m \u001b[39mimport\u001b[39;00m \u001b[39mkeras\u001b[39;00m\n\u001b[0;32m     17\u001b[0m \u001b[39mimport\u001b[39;00m \u001b[39mtensorflow\u001b[39;00m \u001b[39mas\u001b[39;00m \u001b[39mtf\u001b[39;00m\n\u001b[0;32m     18\u001b[0m \u001b[39mfrom\u001b[39;00m \u001b[39mkeras\u001b[39;00m\u001b[39m.\u001b[39;00m\u001b[39mmodels\u001b[39;00m \u001b[39mimport\u001b[39;00m Sequential \n",
            "File \u001b[1;32mc:\\Python310\\lib\\site-packages\\keras\\__init__.py:20\u001b[0m\n\u001b[0;32m      1\u001b[0m \u001b[39m# Copyright 2015 The TensorFlow Authors. All Rights Reserved.\u001b[39;00m\n\u001b[0;32m      2\u001b[0m \u001b[39m#\u001b[39;00m\n\u001b[0;32m      3\u001b[0m \u001b[39m# Licensed under the Apache License, Version 2.0 (the \"License\");\u001b[39;00m\n\u001b[1;32m   (...)\u001b[0m\n\u001b[0;32m     13\u001b[0m \u001b[39m# limitations under the License.\u001b[39;00m\n\u001b[0;32m     14\u001b[0m \u001b[39m# ==============================================================================\u001b[39;00m\n\u001b[0;32m     15\u001b[0m \u001b[39m\"\"\"Implementation of the Keras API, the high-level API of TensorFlow.\u001b[39;00m\n\u001b[0;32m     16\u001b[0m \n\u001b[0;32m     17\u001b[0m \u001b[39mDetailed documentation and user guides are available at\u001b[39;00m\n\u001b[0;32m     18\u001b[0m \u001b[39m[keras.io](https://keras.io).\u001b[39;00m\n\u001b[0;32m     19\u001b[0m \u001b[39m\"\"\"\u001b[39;00m\n\u001b[1;32m---> 20\u001b[0m \u001b[39mfrom\u001b[39;00m \u001b[39mkeras\u001b[39;00m \u001b[39mimport\u001b[39;00m distribute\n\u001b[0;32m     21\u001b[0m \u001b[39mfrom\u001b[39;00m \u001b[39mkeras\u001b[39;00m \u001b[39mimport\u001b[39;00m models\n\u001b[0;32m     22\u001b[0m \u001b[39mfrom\u001b[39;00m \u001b[39mkeras\u001b[39;00m\u001b[39m.\u001b[39;00m\u001b[39mengine\u001b[39;00m\u001b[39m.\u001b[39;00m\u001b[39minput_layer\u001b[39;00m \u001b[39mimport\u001b[39;00m Input\n",
            "File \u001b[1;32mc:\\Python310\\lib\\site-packages\\keras\\distribute\\__init__.py:18\u001b[0m\n\u001b[0;32m      1\u001b[0m \u001b[39m# Copyright 2019 The TensorFlow Authors. All Rights Reserved.\u001b[39;00m\n\u001b[0;32m      2\u001b[0m \u001b[39m#\u001b[39;00m\n\u001b[0;32m      3\u001b[0m \u001b[39m# Licensed under the Apache License, Version 2.0 (the \"License\");\u001b[39;00m\n\u001b[1;32m   (...)\u001b[0m\n\u001b[0;32m     13\u001b[0m \u001b[39m# limitations under the License.\u001b[39;00m\n\u001b[0;32m     14\u001b[0m \u001b[39m# ==============================================================================\u001b[39;00m\n\u001b[0;32m     15\u001b[0m \u001b[39m\"\"\"Keras' Distribution Strategy library.\"\"\"\u001b[39;00m\n\u001b[1;32m---> 18\u001b[0m \u001b[39mfrom\u001b[39;00m \u001b[39mkeras\u001b[39;00m\u001b[39m.\u001b[39;00m\u001b[39mdistribute\u001b[39;00m \u001b[39mimport\u001b[39;00m sidecar_evaluator\n",
            "File \u001b[1;32mc:\\Python310\\lib\\site-packages\\keras\\distribute\\sidecar_evaluator.py:17\u001b[0m\n\u001b[0;32m      1\u001b[0m \u001b[39m# Copyright 2020 The TensorFlow Authors. All Rights Reserved.\u001b[39;00m\n\u001b[0;32m      2\u001b[0m \u001b[39m#\u001b[39;00m\n\u001b[0;32m      3\u001b[0m \u001b[39m# Licensed under the Apache License, Version 2.0 (the \"License\");\u001b[39;00m\n\u001b[1;32m   (...)\u001b[0m\n\u001b[0;32m     13\u001b[0m \u001b[39m# limitations under the License.\u001b[39;00m\n\u001b[0;32m     14\u001b[0m \u001b[39m# ==============================================================================\u001b[39;00m\n\u001b[0;32m     15\u001b[0m \u001b[39m\"\"\"Python module for evaluation loop.\"\"\"\u001b[39;00m\n\u001b[1;32m---> 17\u001b[0m \u001b[39mimport\u001b[39;00m \u001b[39mtensorflow\u001b[39;00m\u001b[39m.\u001b[39;00m\u001b[39mcompat\u001b[39;00m\u001b[39m.\u001b[39;00m\u001b[39mv2\u001b[39;00m \u001b[39mas\u001b[39;00m \u001b[39mtf\u001b[39;00m\n\u001b[0;32m     19\u001b[0m \u001b[39m# isort: off\u001b[39;00m\n\u001b[0;32m     20\u001b[0m \u001b[39mfrom\u001b[39;00m \u001b[39mtensorflow\u001b[39;00m\u001b[39m.\u001b[39;00m\u001b[39mpython\u001b[39;00m\u001b[39m.\u001b[39;00m\u001b[39mplatform\u001b[39;00m \u001b[39mimport\u001b[39;00m tf_logging \u001b[39mas\u001b[39;00m logging\n",
            "\u001b[1;31mModuleNotFoundError\u001b[0m: No module named 'tensorflow.compat'"
          ]
        }
      ],
      "source": [
        "import pandas as pd\n",
        "import numpy as np\n",
        "from sklearn import metrics\n",
        "import seaborn as sns\n",
        "import matplotlib.pyplot as plt\n",
        "from sklearn import tree\n",
        "from sklearn.model_selection import train_test_split\n",
        "from sklearn.tree import DecisionTreeClassifier\n",
        "from sklearn.ensemble import RandomForestClassifier\n",
        "from sklearn.metrics import classification_report, confusion_matrix\n",
        "from sklearn.metrics import accuracy_score, precision_score, mean_squared_error, r2_score, recall_score, f1_score\n",
        "from sklearn.linear_model import LinearRegression, Ridge, Lasso, LogisticRegression\n",
        "from sklearn.preprocessing import MinMaxScaler, StandardScaler\n",
        "import os\n",
        "os.environ['KMP_DUPLICATE_LIB_OK']='True'\n",
        "import keras\n",
        "import tensorflow as tf\n",
        "from keras.models import Sequential \n",
        "from keras.layers import Dense, Dropout, Concatenate, Flatten"
      ]
    },
    {
      "cell_type": "code",
      "execution_count": null,
      "metadata": {
        "id": "gYtKx0LqrPen"
      },
      "outputs": [],
      "source": [
        "array1 = np.load('train_wave_npy.npy', allow_pickle = True)\n",
        "array2 = np.load('train_wave_npy_2.npy', allow_pickle = True)\n",
        "array3 = np.load('train_wave_npy_3.npy', allow_pickle = True)"
      ]
    },
    {
      "cell_type": "code",
      "execution_count": null,
      "metadata": {
        "id": "sbqUz4RSrZh2"
      },
      "outputs": [],
      "source": [
        "array = np.concatenate((array1,array2,array3))"
      ]
    },
    {
      "cell_type": "code",
      "execution_count": null,
      "metadata": {
        "id": "tAutZ_xUrbmE"
      },
      "outputs": [],
      "source": [
        "X = []\n",
        "y = []"
      ]
    },
    {
      "cell_type": "code",
      "execution_count": null,
      "metadata": {
        "colab": {
          "base_uri": "https://localhost:8080/"
        },
        "id": "TD7NMbVwr6Bf",
        "outputId": "f161d2fb-476c-4c88-f4ec-aaa2a9ebbd3c"
      },
      "outputs": [
        {
          "data": {
            "text/plain": [
              "(146, 3)"
            ]
          },
          "execution_count": 5,
          "metadata": {},
          "output_type": "execute_result"
        }
      ],
      "source": [
        "array.shape"
      ]
    },
    {
      "cell_type": "code",
      "execution_count": null,
      "metadata": {
        "colab": {
          "base_uri": "https://localhost:8080/"
        },
        "id": "TyU0xcQEsMKd",
        "outputId": "5936a2d4-ac5a-4f60-fe06-c3752da55ccb"
      },
      "outputs": [
        {
          "data": {
            "text/plain": [
              "list"
            ]
          },
          "execution_count": 6,
          "metadata": {},
          "output_type": "execute_result"
        }
      ],
      "source": [
        "type(X)"
      ]
    },
    {
      "cell_type": "code",
      "execution_count": null,
      "metadata": {
        "id": "L9wl9c9MrdTo"
      },
      "outputs": [],
      "source": [
        "for x in array:\n",
        "    result = []\n",
        "    #print(x[0])#rightshouldervalues\n",
        "    #print(x[1])#leftshouldervalues\n",
        "    rs = np.array(x[0])\n",
        "    ls = np.array(x[1])\n",
        "    result.append(rs)\n",
        "    result.append(ls)\n",
        "    X.append(result)\n",
        "    y.append(x[2])"
      ]
    },
    {
      "cell_type": "code",
      "execution_count": null,
      "metadata": {
        "id": "gm359i6lr1MJ"
      },
      "outputs": [],
      "source": [
        "X = np.array(X)\n",
        "y = np.array(y)"
      ]
    },
    {
      "cell_type": "code",
      "execution_count": null,
      "metadata": {
        "colab": {
          "base_uri": "https://localhost:8080/"
        },
        "id": "g9Ehp3ghtBx3",
        "outputId": "5d9aa887-6a45-4e37-bdfc-dc8ef890b44d"
      },
      "outputs": [
        {
          "data": {
            "text/plain": [
              "(146, 2, 60)"
            ]
          },
          "execution_count": 9,
          "metadata": {},
          "output_type": "execute_result"
        }
      ],
      "source": [
        "X.shape"
      ]
    },
    {
      "cell_type": "code",
      "execution_count": null,
      "metadata": {
        "id": "2CIbRSmAuON3"
      },
      "outputs": [],
      "source": [
        "X = X.reshape(X.shape[0], 1, 2, X.shape[2])"
      ]
    },
    {
      "cell_type": "code",
      "execution_count": null,
      "metadata": {
        "colab": {
          "base_uri": "https://localhost:8080/"
        },
        "id": "PVPFhkQZvF03",
        "outputId": "6896e240-7ff4-4f93-d0b0-81cb18de1e11"
      },
      "outputs": [
        {
          "data": {
            "text/plain": [
              "(146, 1, 2, 60)"
            ]
          },
          "execution_count": 11,
          "metadata": {},
          "output_type": "execute_result"
        }
      ],
      "source": [
        "X.shape"
      ]
    },
    {
      "cell_type": "code",
      "execution_count": null,
      "metadata": {
        "id": "BoRgbyiJrgAn"
      },
      "outputs": [],
      "source": [
        "# Define the model architecture\n",
        "model = Sequential()\n",
        "model.add(Flatten(input_shape=(1, 2, 60)))\n",
        "model.add(Dense(16, input_shape=(1, 2, 60), activation='relu'))\n",
        "model.add(Dense(1, activation='sigmoid'))"
      ]
    },
    {
      "cell_type": "code",
      "execution_count": null,
      "metadata": {
        "id": "Kha8BYmftvy0"
      },
      "outputs": [],
      "source": [
        "# Compile the model\n",
        "model.compile(loss='binary_crossentropy', optimizer='adam', metrics=['accuracy'])"
      ]
    },
    {
      "cell_type": "code",
      "execution_count": null,
      "metadata": {
        "colab": {
          "base_uri": "https://localhost:8080/"
        },
        "id": "6KMMqCuctxfq",
        "outputId": "ef8c61e2-28e6-4fe7-b3b0-73fb92ca82da"
      },
      "outputs": [
        {
          "name": "stdout",
          "output_type": "stream",
          "text": [
            "Epoch 1/25\n",
            "15/15 [==============================] - 0s 7ms/step - loss: 0.4612 - accuracy: 0.8151\n",
            "Epoch 2/25\n",
            "15/15 [==============================] - 0s 6ms/step - loss: 0.4464 - accuracy: 0.8151\n",
            "Epoch 3/25\n",
            "15/15 [==============================] - 0s 5ms/step - loss: 0.4421 - accuracy: 0.8151\n",
            "Epoch 4/25\n",
            "15/15 [==============================] - 0s 5ms/step - loss: 0.4452 - accuracy: 0.8151\n",
            "Epoch 5/25\n",
            "15/15 [==============================] - 0s 5ms/step - loss: 0.4437 - accuracy: 0.8082\n",
            "Epoch 6/25\n",
            "15/15 [==============================] - 0s 8ms/step - loss: 0.4859 - accuracy: 0.7808\n",
            "Epoch 7/25\n",
            "15/15 [==============================] - 0s 10ms/step - loss: 0.4538 - accuracy: 0.8151\n",
            "Epoch 8/25\n",
            "15/15 [==============================] - 0s 5ms/step - loss: 0.4389 - accuracy: 0.8288\n",
            "Epoch 9/25\n",
            "15/15 [==============================] - 0s 5ms/step - loss: 0.4470 - accuracy: 0.8014\n",
            "Epoch 10/25\n",
            "15/15 [==============================] - 0s 5ms/step - loss: 0.4376 - accuracy: 0.8356\n",
            "Epoch 11/25\n",
            "15/15 [==============================] - 0s 4ms/step - loss: 0.4399 - accuracy: 0.8219\n",
            "Epoch 12/25\n",
            "15/15 [==============================] - 0s 5ms/step - loss: 0.4591 - accuracy: 0.8082\n",
            "Epoch 13/25\n",
            "15/15 [==============================] - 0s 6ms/step - loss: 0.4482 - accuracy: 0.8288\n",
            "Epoch 14/25\n",
            "15/15 [==============================] - 0s 5ms/step - loss: 0.4361 - accuracy: 0.8219\n",
            "Epoch 15/25\n",
            "15/15 [==============================] - 0s 6ms/step - loss: 0.4337 - accuracy: 0.8356\n",
            "Epoch 16/25\n",
            "15/15 [==============================] - 0s 5ms/step - loss: 0.4368 - accuracy: 0.8288\n",
            "Epoch 17/25\n",
            "15/15 [==============================] - 0s 3ms/step - loss: 0.4343 - accuracy: 0.8288\n",
            "Epoch 18/25\n",
            "15/15 [==============================] - 0s 3ms/step - loss: 0.4299 - accuracy: 0.8288\n",
            "Epoch 19/25\n",
            "15/15 [==============================] - 0s 3ms/step - loss: 0.4303 - accuracy: 0.8151\n",
            "Epoch 20/25\n",
            "15/15 [==============================] - 0s 3ms/step - loss: 0.4291 - accuracy: 0.8288\n",
            "Epoch 21/25\n",
            "15/15 [==============================] - 0s 4ms/step - loss: 0.4254 - accuracy: 0.8288\n",
            "Epoch 22/25\n",
            "15/15 [==============================] - 0s 3ms/step - loss: 0.4325 - accuracy: 0.8082\n",
            "Epoch 23/25\n",
            "15/15 [==============================] - 0s 4ms/step - loss: 0.4382 - accuracy: 0.8219\n",
            "Epoch 24/25\n",
            "15/15 [==============================] - 0s 3ms/step - loss: 0.4352 - accuracy: 0.8288\n",
            "Epoch 25/25\n",
            "15/15 [==============================] - 0s 3ms/step - loss: 0.4430 - accuracy: 0.8219\n"
          ]
        },
        {
          "data": {
            "text/plain": [
              "<keras.callbacks.History at 0x7fc06d5c4460>"
            ]
          },
          "execution_count": 20,
          "metadata": {},
          "output_type": "execute_result"
        }
      ],
      "source": [
        "# Train the model\n",
        "model.fit(X, y, epochs=25, batch_size=10)"
      ]
    },
    {
      "cell_type": "code",
      "execution_count": null,
      "metadata": {
        "id": "noQ4zEl1cjjk"
      },
      "outputs": [],
      "source": []
    },
    {
      "cell_type": "code",
      "execution_count": null,
      "metadata": {
        "colab": {
          "base_uri": "https://localhost:8080/"
        },
        "id": "uH3LXmrKpU_P",
        "outputId": "25402889-393d-429a-9a22-54d9ab35ed41"
      },
      "outputs": [
        {
          "name": "stdout",
          "output_type": "stream",
          "text": [
            "Model: \"sequential\"\n",
            "_________________________________________________________________\n",
            " Layer (type)                Output Shape              Param #   \n",
            "=================================================================\n",
            " flatten (Flatten)           (None, 120)               0         \n",
            "                                                                 \n",
            " dense (Dense)               (None, 16)                1936      \n",
            "                                                                 \n",
            " dense_1 (Dense)             (None, 1)                 17        \n",
            "                                                                 \n",
            "=================================================================\n",
            "Total params: 1,953\n",
            "Trainable params: 1,953\n",
            "Non-trainable params: 0\n",
            "_________________________________________________________________\n"
          ]
        }
      ],
      "source": [
        "# Display the model's architecture\n",
        "model.summary()"
      ]
    },
    {
      "cell_type": "code",
      "execution_count": null,
      "metadata": {
        "colab": {
          "base_uri": "https://localhost:8080/"
        },
        "id": "_myi6GTdpXt6",
        "outputId": "9de983d2-ca45-40b6-8c2d-291d35610fcc"
      },
      "outputs": [
        {
          "name": "stdout",
          "output_type": "stream",
          "text": [
            "Epoch 1/10\n",
            "1/5 [=====>........................] - ETA: 0s - loss: 0.4141 - accuracy: 0.8750\n",
            "Epoch 1: saving model to training_1/cp.ckpt\n",
            "5/5 [==============================] - 0s 32ms/step - loss: 0.4246 - accuracy: 0.8356\n",
            "Epoch 2/10\n",
            "1/5 [=====>........................] - ETA: 0s - loss: 0.4854 - accuracy: 0.7500\n",
            "Epoch 2: saving model to training_1/cp.ckpt\n",
            "5/5 [==============================] - 0s 10ms/step - loss: 0.4212 - accuracy: 0.8219\n",
            "Epoch 3/10\n",
            "1/5 [=====>........................] - ETA: 0s - loss: 0.4121 - accuracy: 0.8750\n",
            "Epoch 3: saving model to training_1/cp.ckpt\n",
            "5/5 [==============================] - 0s 9ms/step - loss: 0.4261 - accuracy: 0.8151\n",
            "Epoch 4/10\n",
            "1/5 [=====>........................] - ETA: 0s - loss: 0.3691 - accuracy: 0.8750\n",
            "Epoch 4: saving model to training_1/cp.ckpt\n",
            "5/5 [==============================] - 0s 10ms/step - loss: 0.4211 - accuracy: 0.8151\n",
            "Epoch 5/10\n",
            "1/5 [=====>........................] - ETA: 0s - loss: 0.3636 - accuracy: 0.9375\n",
            "Epoch 5: saving model to training_1/cp.ckpt\n",
            "5/5 [==============================] - 0s 9ms/step - loss: 0.4252 - accuracy: 0.8288\n",
            "Epoch 6/10\n",
            "1/5 [=====>........................] - ETA: 0s - loss: 0.4305 - accuracy: 0.8750\n",
            "Epoch 6: saving model to training_1/cp.ckpt\n",
            "5/5 [==============================] - 0s 9ms/step - loss: 0.4252 - accuracy: 0.8356\n",
            "Epoch 7/10\n",
            "1/5 [=====>........................] - ETA: 0s - loss: 0.4806 - accuracy: 0.8438\n",
            "Epoch 7: saving model to training_1/cp.ckpt\n",
            "5/5 [==============================] - 0s 10ms/step - loss: 0.4206 - accuracy: 0.8356\n",
            "Epoch 8/10\n",
            "1/5 [=====>........................] - ETA: 0s - loss: 0.3315 - accuracy: 0.9375\n",
            "Epoch 8: saving model to training_1/cp.ckpt\n",
            "5/5 [==============================] - 0s 10ms/step - loss: 0.4191 - accuracy: 0.8288\n",
            "Epoch 9/10\n",
            "1/5 [=====>........................] - ETA: 0s - loss: 0.3685 - accuracy: 0.9062\n",
            "Epoch 9: saving model to training_1/cp.ckpt\n",
            "5/5 [==============================] - 0s 10ms/step - loss: 0.4206 - accuracy: 0.8219\n",
            "Epoch 10/10\n",
            "1/5 [=====>........................] - ETA: 0s - loss: 0.4339 - accuracy: 0.8438\n",
            "Epoch 10: saving model to training_1/cp.ckpt\n",
            "5/5 [==============================] - 0s 10ms/step - loss: 0.4198 - accuracy: 0.8288\n"
          ]
        },
        {
          "data": {
            "text/plain": [
              "<keras.callbacks.History at 0x7fc05ceb5430>"
            ]
          },
          "execution_count": 22,
          "metadata": {},
          "output_type": "execute_result"
        }
      ],
      "source": [
        "checkpoint_path = \"training_1/cp.ckpt\"\n",
        "checkpoint_dir = os.path.dirname(checkpoint_path)\n",
        "\n",
        "# Create a callback that saves the model's weights\n",
        "cp_callback = tf.keras.callbacks.ModelCheckpoint(filepath=checkpoint_path,\n",
        "                                                 save_weights_only=True,\n",
        "                                                 verbose=1)\n",
        "\n",
        "# Train the model with the new callback\n",
        "model.fit(X, \n",
        "          y,  \n",
        "          epochs=10,\n",
        "          callbacks=[cp_callback])  # Pass callback to training"
      ]
    },
    {
      "cell_type": "code",
      "execution_count": null,
      "metadata": {
        "colab": {
          "base_uri": "https://localhost:8080/"
        },
        "id": "CDJ3vXzXpYHu",
        "outputId": "6220daf9-512e-48ed-c567-db6b9bd89e7e"
      },
      "outputs": [
        {
          "data": {
            "text/plain": [
              "['checkpoint', 'cp.ckpt.data-00000-of-00001', 'cp.ckpt.index']"
            ]
          },
          "execution_count": 23,
          "metadata": {},
          "output_type": "execute_result"
        }
      ],
      "source": [
        "os.listdir(checkpoint_dir)"
      ]
    },
    {
      "cell_type": "code",
      "execution_count": null,
      "metadata": {
        "id": "_6xYi6z1pW-q"
      },
      "outputs": [],
      "source": [
        "# Create a basic model instance\n",
        "model = create_model()\n",
        "\n",
        "# Evaluate the model\n",
        "loss, acc = model.evaluate(test_images, test_labels, verbose=2)\n",
        "print(\"Untrained model, accuracy: {:5.2f}%\".format(100 * acc))"
      ]
    },
    {
      "cell_type": "code",
      "execution_count": null,
      "metadata": {
        "id": "mSlHhdvvpWG-"
      },
      "outputs": [],
      "source": []
    },
    {
      "cell_type": "code",
      "execution_count": null,
      "metadata": {
        "id": "bvNSyWTd5dht"
      },
      "outputs": [],
      "source": [
        "# save model and architecture to single file\n",
        "model.save(\"model.h5\")"
      ]
    },
    {
      "cell_type": "code",
      "execution_count": null,
      "metadata": {
        "id": "uAA1zVPSwYdR"
      },
      "outputs": [],
      "source": [
        "import joblib"
      ]
    },
    {
      "cell_type": "code",
      "execution_count": null,
      "metadata": {
        "colab": {
          "base_uri": "https://localhost:8080/"
        },
        "id": "KChG--Zkwb1Y",
        "outputId": "866df80b-2486-44c1-c160-c891642d1ec6"
      },
      "outputs": [
        {
          "data": {
            "text/plain": [
              "['wave_model_nn.joblib']"
            ]
          },
          "execution_count": 89,
          "metadata": {},
          "output_type": "execute_result"
        }
      ],
      "source": [
        "# save the models to disk\n",
        "joblib.dump(model, 'wave_model_nn.joblib')"
      ]
    },
    {
      "cell_type": "code",
      "execution_count": null,
      "metadata": {
        "id": "YrnVOfRDxFjz"
      },
      "outputs": [],
      "source": [
        "!mkdir -p saved_model"
      ]
    },
    {
      "cell_type": "code",
      "execution_count": null,
      "metadata": {
        "id": "vgvstQ9_xX0f"
      },
      "outputs": [],
      "source": [
        "import torch"
      ]
    },
    {
      "cell_type": "code",
      "execution_count": null,
      "metadata": {
        "id": "wsdufDLBxY-W"
      },
      "outputs": [],
      "source": [
        "torch.save(model,'wave_model_nn.sav')"
      ]
    },
    {
      "cell_type": "code",
      "execution_count": null,
      "metadata": {
        "id": "6R7oz7g1xffp"
      },
      "outputs": [],
      "source": [
        "from google.colab import files "
      ]
    },
    {
      "cell_type": "code",
      "execution_count": null,
      "metadata": {
        "colab": {
          "base_uri": "https://localhost:8080/",
          "height": 17
        },
        "id": "1eIf22W-yLJh",
        "outputId": "d1ce18f3-4e22-4196-f5d6-ab63d3a66938"
      },
      "outputs": [
        {
          "data": {
            "application/javascript": "\n    async function download(id, filename, size) {\n      if (!google.colab.kernel.accessAllowed) {\n        return;\n      }\n      const div = document.createElement('div');\n      const label = document.createElement('label');\n      label.textContent = `Downloading \"${filename}\": `;\n      div.appendChild(label);\n      const progress = document.createElement('progress');\n      progress.max = size;\n      div.appendChild(progress);\n      document.body.appendChild(div);\n\n      const buffers = [];\n      let downloaded = 0;\n\n      const channel = await google.colab.kernel.comms.open(id);\n      // Send a message to notify the kernel that we're ready.\n      channel.send({})\n\n      for await (const message of channel.messages) {\n        // Send a message to notify the kernel that we're ready.\n        channel.send({})\n        if (message.buffers) {\n          for (const buffer of message.buffers) {\n            buffers.push(buffer);\n            downloaded += buffer.byteLength;\n            progress.value = downloaded;\n          }\n        }\n      }\n      const blob = new Blob(buffers, {type: 'application/binary'});\n      const a = document.createElement('a');\n      a.href = window.URL.createObjectURL(blob);\n      a.download = filename;\n      div.appendChild(a);\n      a.click();\n      div.remove();\n    }\n  ",
            "text/plain": [
              "<IPython.core.display.Javascript object>"
            ]
          },
          "metadata": {},
          "output_type": "display_data"
        },
        {
          "data": {
            "application/javascript": "download(\"download_590fc8a8-ff15-492c-84a7-2ea814ec73c4\", \"wave_model_nn.joblib\", 46628)",
            "text/plain": [
              "<IPython.core.display.Javascript object>"
            ]
          },
          "metadata": {},
          "output_type": "display_data"
        }
      ],
      "source": [
        "files.download('wave_model_nn.joblib')"
      ]
    },
    {
      "cell_type": "code",
      "execution_count": null,
      "metadata": {
        "id": "95IYH-87vNyw"
      },
      "outputs": [],
      "source": [
        "X_test =  np.array([[[[ 92,  93, 108, 111, 111, 107,  99,  98,  93,  91,  91,  91,\n",
        "          89,  88,  87,  87,  86,  83,  83,  81,  82,  81,  81,  82,\n",
        "          85,  89,  92,  97, 103, 106, 125, 128, 135, 136, 138, 139,\n",
        "         141, 147, 148, 148, 146, 143, 136, 131, 120, 117, 116, 113,\n",
        "         110, 103,  99,  97,  91,  89,  89,  91,  95, 101, 107, 113],\n",
        "        [ 87,  82,  84,  92,  95,  97,  99,  98,  95,  94,  93,  92,\n",
        "          92,  92,  89,  87,  86,  85,  83,  81,  78,  78,  79,  81,\n",
        "          87,  90,  97, 104, 108, 116, 135, 141, 142, 144, 146, 148,\n",
        "         149, 153, 152, 151, 148, 145, 141, 136, 122, 115, 109, 103,\n",
        "          99,  95,  92,  87,  83,  80,  81,  84,  88,  92,  99, 108]]]])"
      ]
    },
    {
      "cell_type": "code",
      "execution_count": null,
      "metadata": {
        "id": "wpK0frcEdEbb"
      },
      "outputs": [],
      "source": [
        "X_test =  np.array([[[[ 120,  120, 120, 120, 120, 120,  120,  120,  120,  120, \n",
        "                       120,  120, 120, 120, 120, 120,  120,  120,  120,  120, \n",
        "                       120,  120, 120, 120, 120, 120,  120,  120,  120,  120, \n",
        "                       120,  120, 120, 120, 120, 120,  120,  120,  120,  120, \n",
        "                       120,  120, 120, 120, 120, 120,  120,  120,  120,  120, \n",
        "                       120,  120, 120, 120, 120, 120,  120,  120,  120,  120], \n",
        "                      [ 120,  120, 120, 120, 120, 120,  120,  120,  120,  120, \n",
        "                       120,  120, 120, 120, 120, 120,  120,  120,  120,  120, \n",
        "                       120,  120, 120, 120, 120, 120,  120,  120,  120,  120, \n",
        "                       120,  120, 120, 120, 120, 120,  120,  120,  120,  120, \n",
        "                       120,  120, 120, 120, 120, 120,  120,  120,  120,  120, \n",
        "                       120,  120, 120, 120, 120, 120,  120,  120,  120,  120]]]])\n"
      ]
    },
    {
      "cell_type": "code",
      "execution_count": null,
      "metadata": {
        "colab": {
          "base_uri": "https://localhost:8080/"
        },
        "id": "9k80gsCFviMY",
        "outputId": "e976e338-f51f-4e53-ebc1-b1e6b9388da6"
      },
      "outputs": [
        {
          "name": "stdout",
          "output_type": "stream",
          "text": [
            "1/1 [==============================] - 0s 155ms/step\n"
          ]
        }
      ],
      "source": [
        "pred = model.predict(X_test)"
      ]
    },
    {
      "cell_type": "code",
      "execution_count": null,
      "metadata": {
        "colab": {
          "base_uri": "https://localhost:8080/"
        },
        "id": "CHWb-ceXvknT",
        "outputId": "249befa3-463c-4530-f7e8-33e0659ec11c"
      },
      "outputs": [
        {
          "data": {
            "text/plain": [
              "array([[0.]], dtype=float32)"
            ]
          },
          "execution_count": 14,
          "metadata": {},
          "output_type": "execute_result"
        }
      ],
      "source": [
        "pred"
      ]
    },
    {
      "cell_type": "code",
      "execution_count": null,
      "metadata": {
        "id": "Y1rJ_Cmgv2Mv"
      },
      "outputs": [],
      "source": [
        "X_test1 = np.array([[[[329, 327, 326, 321, 318, 317, 319, 320, 325, 330, 338, 339,\n",
        "         348, 352, 352, 346, 337, 326, 322, 306, 304, 305, 305, 308,\n",
        "         311, 338, 351,   1,   3,   7,   6, 359, 283, 278, 276, 279,\n",
        "         279, 278, 278, 278, 278, 277, 277, 275, 273, 272, 287, 298,\n",
        "         310, 316, 318, 316, 311, 311, 307, 303, 301, 297, 302, 302],\n",
        "        [234, 240, 242, 244, 245, 249, 249, 251, 250, 251, 250, 251,\n",
        "         249, 248, 246, 246, 245, 247, 248, 249, 250, 249, 250, 251,\n",
        "         252, 256, 256, 256, 258, 260, 261, 265, 266, 267, 266, 269,\n",
        "         271, 269, 270, 272, 272, 273, 276, 277, 279, 282, 307, 316,\n",
        "         323, 322, 322, 322, 317, 320, 313, 313, 314, 313, 311, 308]]]])"
      ]
    },
    {
      "cell_type": "code",
      "execution_count": null,
      "metadata": {
        "colab": {
          "base_uri": "https://localhost:8080/"
        },
        "id": "b6BxGJVUv7jK",
        "outputId": "a41269e7-62de-46d6-ba11-ea49cc062f52"
      },
      "outputs": [
        {
          "name": "stdout",
          "output_type": "stream",
          "text": [
            "1/1 [==============================] - 0s 25ms/step\n"
          ]
        }
      ],
      "source": [
        "pred1 = model.predict(X_test1)"
      ]
    },
    {
      "cell_type": "code",
      "execution_count": null,
      "metadata": {
        "colab": {
          "base_uri": "https://localhost:8080/"
        },
        "id": "WbkjS71Pv-Ne",
        "outputId": "4727c742-5684-4e91-eb40-74b8173c83e7"
      },
      "outputs": [
        {
          "data": {
            "text/plain": [
              "array([[2.3492346e-19]], dtype=float32)"
            ]
          },
          "execution_count": 67,
          "metadata": {},
          "output_type": "execute_result"
        }
      ],
      "source": [
        "pred1"
      ]
    },
    {
      "cell_type": "code",
      "execution_count": null,
      "metadata": {
        "id": "sKLc-Jp02LNd"
      },
      "outputs": [],
      "source": [
        "X_test =  np.array([[[[ 92,  93, 108, 111, 111, 107,  99,  98,  93,  91,  91,  91,\n",
        "          89,  88,  87,  87,  86,  83,  83,  81,  82,  81,  81,  82,\n",
        "          85,  89,  92,  97, 103, 106, 125, 128, 135, 136, 138, 139,\n",
        "         141, 147, 148, 148, 146, 143, 136, 131, 120, 117, 116, 113,\n",
        "         110, 103,  99,  97,  91,  89,  89,  91,  95, 101, 107, 113],\n",
        "        [ 87,  82,  84,  92,  95,  97,  99,  98,  95,  94,  93,  92,\n",
        "          92,  92,  89,  87,  86,  85,  83,  81,  78,  78,  79,  81,\n",
        "          87,  90,  97, 104, 108, 116, 135, 141, 142, 144, 146, 148,\n",
        "         149, 153, 152, 151, 148, 145, 141, 136, 122, 115, 109, 103,\n",
        "          99,  95,  92,  87,  83,  80,  81,  84,  88,  92,  99, 108]]]])"
      ]
    },
    {
      "cell_type": "code",
      "execution_count": null,
      "metadata": {
        "colab": {
          "base_uri": "https://localhost:8080/"
        },
        "id": "QXACFwef2jaM",
        "outputId": "2dd101ce-33cb-4845-c516-b2467f0fb676"
      },
      "outputs": [
        {
          "name": "stdout",
          "output_type": "stream",
          "text": [
            "[[[[ 92  93 108 111 111 107  99  98  93  91  91  91  89  88  87  87  86\n",
            "     83  83  81  82  81  81  82  85  89  92  97 103 106 125 128 135 136\n",
            "    138 139 141 147 148 148 146 143 136 131 120 117 116 113 110 103  99\n",
            "     97  91  89  89  91  95 101 107 113]\n",
            "   [ 87  82  84  92  95  97  99  98  95  94  93  92  92  92  89  87  86\n",
            "     85  83  81  78  78  79  81  87  90  97 104 108 116 135 141 142 144\n",
            "    146 148 149 153 152 151 148 145 141 136 122 115 109 103  99  95  92\n",
            "     87  83  80  81  84  88  92  99 108]]]]\n"
          ]
        }
      ],
      "source": [
        "print(X_test)"
      ]
    },
    {
      "cell_type": "code",
      "execution_count": null,
      "metadata": {
        "colab": {
          "base_uri": "https://localhost:8080/"
        },
        "id": "FWLJQk5f2t2M",
        "outputId": "c28bc61e-61db-4cac-dd1e-ee0b1c7bef20"
      },
      "outputs": [
        {
          "data": {
            "text/plain": [
              "numpy.ndarray"
            ]
          },
          "execution_count": 83,
          "metadata": {},
          "output_type": "execute_result"
        }
      ],
      "source": [
        "type(X_test)"
      ]
    },
    {
      "cell_type": "code",
      "execution_count": null,
      "metadata": {
        "id": "wHELDZsb2Mji"
      },
      "outputs": [],
      "source": [
        "a = [ 92,  93, 108, 111, 111, 107,  99,  98,  93,  91,  91,  91,\n",
        "          89,  88,  87,  87,  86,  83,  83,  81,  82,  81,  81,  82,\n",
        "          85,  89,  92,  97, 103, 106, 125, 128, 135, 136, 138, 139,\n",
        "         141, 147, 148, 148, 146, 143, 136, 131, 120, 117, 116, 113,\n",
        "         110, 103,  99,  97,  91,  89,  89,  91,  95, 101, 107, 113]"
      ]
    }
  ],
  "metadata": {
    "colab": {
      "provenance": []
    },
    "kernelspec": {
      "display_name": "Python 3",
      "name": "python3"
    },
    "language_info": {
      "codemirror_mode": {
        "name": "ipython",
        "version": 3
      },
      "file_extension": ".py",
      "mimetype": "text/x-python",
      "name": "python",
      "nbconvert_exporter": "python",
      "pygments_lexer": "ipython3",
      "version": "3.10.5"
    }
  },
  "nbformat": 4,
  "nbformat_minor": 0
}
