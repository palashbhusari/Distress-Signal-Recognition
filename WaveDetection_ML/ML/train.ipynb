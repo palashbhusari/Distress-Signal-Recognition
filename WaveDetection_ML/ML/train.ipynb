{
 "cells": [
  {
   "cell_type": "markdown",
   "id": "9d5d6587",
   "metadata": {},
   "source": [
    "# Binary Classifiers"
   ]
  },
  {
   "cell_type": "code",
   "execution_count": 17,
   "id": "59914fa0",
   "metadata": {},
   "outputs": [],
   "source": [
    "import pandas as pd\n",
    "import numpy as np\n",
    "from sklearn import datasets\n",
    "from sklearn.datasets import load_wine\n",
    "from sklearn import tree\n",
    "from sklearn.model_selection import train_test_split\n",
    "from sklearn.tree import DecisionTreeClassifier\n",
    "from sklearn.metrics import accuracy_score\n",
    "#import seaborn as sns\n",
    "#import matplotlib.pyplot as plt\n",
    "from sklearn.ensemble import RandomForestClassifier\n",
    "#from sklearn.datasets import load_iris\n",
    "from sklearn.metrics import classification_report, confusion_matrix, accuracy_score\n",
    "#from sklearn.datasets import load_boston\n",
    "from sklearn.linear_model import LinearRegression, Ridge, Lasso, LogisticRegression\n",
    "from sklearn.metrics import mean_squared_error, r2_score\n",
    "from sklearn.model_selection import train_test_split\n",
    "from sklearn.preprocessing import MinMaxScaler"
   ]
  },
  {
   "cell_type": "code",
   "execution_count": 18,
   "id": "78bf4258",
   "metadata": {},
   "outputs": [
    {
     "name": "stdout",
     "output_type": "stream",
     "text": [
      "0      [236, 239, 241, 244, 244, 244, 244, 244, 246, ...\n",
      "1      [124, 112, 102, 101, 93, 86, 88, 92, 105, 116,...\n",
      "2      [77, 80, 85, 87, 118, 128, 135, 141, 144, 144,...\n",
      "3      [81, 80, 84, 87, 89, 112, 121, 129, 134, 135, ...\n",
      "4      [109, 98, 90, 83, 86, 86, 91, 130, 132, 141, 1...\n",
      "                             ...                        \n",
      "120    [262, 263, 263, 264, 263, 263, 262, 254, 251, ...\n",
      "121    [207, 200, 194, 189, 183, 180, 175, 167, 168, ...\n",
      "122    [281, 282, 282, 282, 282, 282, 282, 282, 281, ...\n",
      "123    [275, 275, 275, 275, 275, 275, 276, 276, 276, ...\n",
      "124    [283, 283, 282, 282, 283, 281, 281, 279, 278, ...\n",
      "Name: upperLeftShoulder, Length: 125, dtype: object\n",
      "124\n"
     ]
    }
   ],
   "source": [
    "# Create dataframe \n",
    "def convert_to_list(s):\n",
    "    return eval(s)\n",
    "df = pd.read_csv('../train_wave1.csv', converters={'upperRightShoulder': convert_to_list,'upperLeftShoulder': convert_to_list })\n",
    "# view the dataframe\n",
    "print(df['upperLeftShoulder'])\n",
    "print(df['upperLeftShoulder'][1][0])\n",
    "\n"
   ]
  },
  {
   "cell_type": "code",
   "execution_count": 19,
   "id": "1d724f8e",
   "metadata": {},
   "outputs": [],
   "source": [
    "df = df.drop(df.columns[[0]],axis = 1)"
   ]
  },
  {
   "cell_type": "code",
   "execution_count": 20,
   "id": "a159cbc5",
   "metadata": {},
   "outputs": [
    {
     "data": {
      "text/html": [
       "<div>\n",
       "<style scoped>\n",
       "    .dataframe tbody tr th:only-of-type {\n",
       "        vertical-align: middle;\n",
       "    }\n",
       "\n",
       "    .dataframe tbody tr th {\n",
       "        vertical-align: top;\n",
       "    }\n",
       "\n",
       "    .dataframe thead th {\n",
       "        text-align: right;\n",
       "    }\n",
       "</style>\n",
       "<table border=\"1\" class=\"dataframe\">\n",
       "  <thead>\n",
       "    <tr style=\"text-align: right;\">\n",
       "      <th></th>\n",
       "      <th>upperRightShoulder</th>\n",
       "      <th>upperLeftShoulder</th>\n",
       "      <th>TargetWave</th>\n",
       "    </tr>\n",
       "  </thead>\n",
       "  <tbody>\n",
       "    <tr>\n",
       "      <th>0</th>\n",
       "      <td>[219, 223, 222, 221, 221, 221, 221, 221, 221, ...</td>\n",
       "      <td>[236, 239, 241, 244, 244, 244, 244, 244, 246, ...</td>\n",
       "      <td>1</td>\n",
       "    </tr>\n",
       "    <tr>\n",
       "      <th>1</th>\n",
       "      <td>[114, 98, 84, 82, 72, 70, 71, 82, 94, 108, 132...</td>\n",
       "      <td>[124, 112, 102, 101, 93, 86, 88, 92, 105, 116,...</td>\n",
       "      <td>1</td>\n",
       "    </tr>\n",
       "    <tr>\n",
       "      <th>2</th>\n",
       "      <td>[60, 63, 74, 78, 108, 121, 131, 140, 145, 145,...</td>\n",
       "      <td>[77, 80, 85, 87, 118, 128, 135, 141, 144, 144,...</td>\n",
       "      <td>1</td>\n",
       "    </tr>\n",
       "    <tr>\n",
       "      <th>3</th>\n",
       "      <td>[66, 61, 65, 69, 69, 100, 112, 118, 124, 125, ...</td>\n",
       "      <td>[81, 80, 84, 87, 89, 112, 121, 129, 134, 135, ...</td>\n",
       "      <td>1</td>\n",
       "    </tr>\n",
       "    <tr>\n",
       "      <th>4</th>\n",
       "      <td>[85, 69, 66, 66, 68, 69, 75, 122, 125, 134, 13...</td>\n",
       "      <td>[109, 98, 90, 83, 86, 86, 91, 130, 132, 141, 1...</td>\n",
       "      <td>1</td>\n",
       "    </tr>\n",
       "  </tbody>\n",
       "</table>\n",
       "</div>"
      ],
      "text/plain": [
       "                                  upperRightShoulder  \\\n",
       "0  [219, 223, 222, 221, 221, 221, 221, 221, 221, ...   \n",
       "1  [114, 98, 84, 82, 72, 70, 71, 82, 94, 108, 132...   \n",
       "2  [60, 63, 74, 78, 108, 121, 131, 140, 145, 145,...   \n",
       "3  [66, 61, 65, 69, 69, 100, 112, 118, 124, 125, ...   \n",
       "4  [85, 69, 66, 66, 68, 69, 75, 122, 125, 134, 13...   \n",
       "\n",
       "                                   upperLeftShoulder  TargetWave  \n",
       "0  [236, 239, 241, 244, 244, 244, 244, 244, 246, ...           1  \n",
       "1  [124, 112, 102, 101, 93, 86, 88, 92, 105, 116,...           1  \n",
       "2  [77, 80, 85, 87, 118, 128, 135, 141, 144, 144,...           1  \n",
       "3  [81, 80, 84, 87, 89, 112, 121, 129, 134, 135, ...           1  \n",
       "4  [109, 98, 90, 83, 86, 86, 91, 130, 132, 141, 1...           1  "
      ]
     },
     "execution_count": 20,
     "metadata": {},
     "output_type": "execute_result"
    }
   ],
   "source": [
    "# view the dataframe\n",
    "df.head()"
   ]
  },
  {
   "cell_type": "code",
   "execution_count": 21,
   "id": "d591d716",
   "metadata": {},
   "outputs": [],
   "source": [
    "X = df[['upperRightShoulder','upperLeftShoulder']]\n",
    "y = df['TargetWave']"
   ]
  },
  {
   "cell_type": "code",
   "execution_count": 26,
   "id": "d980509d",
   "metadata": {},
   "outputs": [
    {
     "data": {
      "text/html": [
       "<div>\n",
       "<style scoped>\n",
       "    .dataframe tbody tr th:only-of-type {\n",
       "        vertical-align: middle;\n",
       "    }\n",
       "\n",
       "    .dataframe tbody tr th {\n",
       "        vertical-align: top;\n",
       "    }\n",
       "\n",
       "    .dataframe thead th {\n",
       "        text-align: right;\n",
       "    }\n",
       "</style>\n",
       "<table border=\"1\" class=\"dataframe\">\n",
       "  <thead>\n",
       "    <tr style=\"text-align: right;\">\n",
       "      <th></th>\n",
       "      <th>upperRightShoulder</th>\n",
       "      <th>upperLeftShoulder</th>\n",
       "    </tr>\n",
       "  </thead>\n",
       "  <tbody>\n",
       "    <tr>\n",
       "      <th>0</th>\n",
       "      <td>[219, 223, 222, 221, 221, 221, 221, 221, 221, ...</td>\n",
       "      <td>[236, 239, 241, 244, 244, 244, 244, 244, 246, ...</td>\n",
       "    </tr>\n",
       "    <tr>\n",
       "      <th>1</th>\n",
       "      <td>[114, 98, 84, 82, 72, 70, 71, 82, 94, 108, 132...</td>\n",
       "      <td>[124, 112, 102, 101, 93, 86, 88, 92, 105, 116,...</td>\n",
       "    </tr>\n",
       "    <tr>\n",
       "      <th>2</th>\n",
       "      <td>[60, 63, 74, 78, 108, 121, 131, 140, 145, 145,...</td>\n",
       "      <td>[77, 80, 85, 87, 118, 128, 135, 141, 144, 144,...</td>\n",
       "    </tr>\n",
       "    <tr>\n",
       "      <th>3</th>\n",
       "      <td>[66, 61, 65, 69, 69, 100, 112, 118, 124, 125, ...</td>\n",
       "      <td>[81, 80, 84, 87, 89, 112, 121, 129, 134, 135, ...</td>\n",
       "    </tr>\n",
       "    <tr>\n",
       "      <th>4</th>\n",
       "      <td>[85, 69, 66, 66, 68, 69, 75, 122, 125, 134, 13...</td>\n",
       "      <td>[109, 98, 90, 83, 86, 86, 91, 130, 132, 141, 1...</td>\n",
       "    </tr>\n",
       "  </tbody>\n",
       "</table>\n",
       "</div>"
      ],
      "text/plain": [
       "                                  upperRightShoulder  \\\n",
       "0  [219, 223, 222, 221, 221, 221, 221, 221, 221, ...   \n",
       "1  [114, 98, 84, 82, 72, 70, 71, 82, 94, 108, 132...   \n",
       "2  [60, 63, 74, 78, 108, 121, 131, 140, 145, 145,...   \n",
       "3  [66, 61, 65, 69, 69, 100, 112, 118, 124, 125, ...   \n",
       "4  [85, 69, 66, 66, 68, 69, 75, 122, 125, 134, 13...   \n",
       "\n",
       "                                   upperLeftShoulder  \n",
       "0  [236, 239, 241, 244, 244, 244, 244, 244, 246, ...  \n",
       "1  [124, 112, 102, 101, 93, 86, 88, 92, 105, 116,...  \n",
       "2  [77, 80, 85, 87, 118, 128, 135, 141, 144, 144,...  \n",
       "3  [81, 80, 84, 87, 89, 112, 121, 129, 134, 135, ...  \n",
       "4  [109, 98, 90, 83, 86, 86, 91, 130, 132, 141, 1...  "
      ]
     },
     "execution_count": 26,
     "metadata": {},
     "output_type": "execute_result"
    }
   ],
   "source": [
    "X.head()"
   ]
  },
  {
   "cell_type": "code",
   "execution_count": 30,
   "id": "12b3f7f5",
   "metadata": {},
   "outputs": [
    {
     "data": {
      "text/plain": [
       "0    1\n",
       "1    1\n",
       "2    1\n",
       "3    1\n",
       "4    1\n",
       "Name: TargetWave, dtype: int64"
      ]
     },
     "execution_count": 30,
     "metadata": {},
     "output_type": "execute_result"
    }
   ],
   "source": [
    "y.head()\n"
   ]
  },
  {
   "cell_type": "code",
   "execution_count": 31,
   "id": "98afdb6d",
   "metadata": {},
   "outputs": [
    {
     "data": {
      "text/html": [
       "<div>\n",
       "<style scoped>\n",
       "    .dataframe tbody tr th:only-of-type {\n",
       "        vertical-align: middle;\n",
       "    }\n",
       "\n",
       "    .dataframe tbody tr th {\n",
       "        vertical-align: top;\n",
       "    }\n",
       "\n",
       "    .dataframe thead th {\n",
       "        text-align: right;\n",
       "    }\n",
       "</style>\n",
       "<table border=\"1\" class=\"dataframe\">\n",
       "  <thead>\n",
       "    <tr style=\"text-align: right;\">\n",
       "      <th></th>\n",
       "      <th>upperRightShoulder</th>\n",
       "      <th>upperLeftShoulder</th>\n",
       "    </tr>\n",
       "  </thead>\n",
       "  <tbody>\n",
       "    <tr>\n",
       "      <th>19</th>\n",
       "      <td>[74, 59, 64, 88, 110, 112, 127, 131, 131, 138,...</td>\n",
       "      <td>[79, 79, 81, 93, 107, 109, 117, 124, 125, 130,...</td>\n",
       "    </tr>\n",
       "    <tr>\n",
       "      <th>80</th>\n",
       "      <td>[253, 260, 264, 266, 267, 268, 268, 267, 266, ...</td>\n",
       "      <td>[244, 253, 259, 263, 268, 268, 268, 267, 267, ...</td>\n",
       "    </tr>\n",
       "    <tr>\n",
       "      <th>104</th>\n",
       "      <td>[255, 255, 255, 256, 270, 272, 272, 275, 275, ...</td>\n",
       "      <td>[257, 254, 254, 254, 255, 255, 256, 257, 258, ...</td>\n",
       "    </tr>\n",
       "    <tr>\n",
       "      <th>67</th>\n",
       "      <td>[285, 282, 280, 277, 278, 274, 269, 264, 263, ...</td>\n",
       "      <td>[255, 259, 262, 266, 51, 56, 61, 66, 68, 71, 7...</td>\n",
       "    </tr>\n",
       "    <tr>\n",
       "      <th>123</th>\n",
       "      <td>[284, 284, 285, 283, 283, 284, 284, 284, 283, ...</td>\n",
       "      <td>[275, 275, 275, 275, 275, 275, 276, 276, 276, ...</td>\n",
       "    </tr>\n",
       "  </tbody>\n",
       "</table>\n",
       "</div>"
      ],
      "text/plain": [
       "                                    upperRightShoulder  \\\n",
       "19   [74, 59, 64, 88, 110, 112, 127, 131, 131, 138,...   \n",
       "80   [253, 260, 264, 266, 267, 268, 268, 267, 266, ...   \n",
       "104  [255, 255, 255, 256, 270, 272, 272, 275, 275, ...   \n",
       "67   [285, 282, 280, 277, 278, 274, 269, 264, 263, ...   \n",
       "123  [284, 284, 285, 283, 283, 284, 284, 284, 283, ...   \n",
       "\n",
       "                                     upperLeftShoulder  \n",
       "19   [79, 79, 81, 93, 107, 109, 117, 124, 125, 130,...  \n",
       "80   [244, 253, 259, 263, 268, 268, 268, 267, 267, ...  \n",
       "104  [257, 254, 254, 254, 255, 255, 256, 257, 258, ...  \n",
       "67   [255, 259, 262, 266, 51, 56, 61, 66, 68, 71, 7...  \n",
       "123  [275, 275, 275, 275, 275, 275, 276, 276, 276, ...  "
      ]
     },
     "execution_count": 31,
     "metadata": {},
     "output_type": "execute_result"
    }
   ],
   "source": [
    "# Split dataset into training set and test set\n",
    "X_train, X_test, y_train, y_test = train_test_split(X, y, test_size=0.3)\n",
    "#X_train = np.asarray(X_train)\n",
    "X_train.head()\n",
    "\n"
   ]
  },
  {
   "cell_type": "markdown",
   "id": "1f4400bd",
   "metadata": {},
   "source": [
    "## Logistic Regression "
   ]
  },
  {
   "cell_type": "code",
   "execution_count": 32,
   "id": "89c4581f",
   "metadata": {},
   "outputs": [],
   "source": [
    "#Logistic Regression\n",
    "model_logistic = LogisticRegression()\n",
    "model_logistic.fit(X_train,y_train,)"
   ]
  },
  {
   "cell_type": "code",
   "execution_count": null,
   "id": "f1cfd51b",
   "metadata": {},
   "outputs": [
    {
     "ename": "",
     "evalue": "",
     "output_type": "error",
     "traceback": [
      "\u001b[1;31mCanceled future for execute_request message before replies were done"
     ]
    }
   ],
   "source": [
    "y_pred_logistic = model_logistic.predict(X_test)\n",
    "print('Accuracy score Logistic : ' ,round(accuracy_score(y_test,y_pred_logistic),4))"
   ]
  },
  {
   "cell_type": "markdown",
   "id": "9de5b1ad",
   "metadata": {},
   "source": [
    "## Decision Trees Classifier"
   ]
  },
  {
   "cell_type": "code",
   "execution_count": null,
   "id": "7d9bb245",
   "metadata": {},
   "outputs": [
    {
     "ename": "ValueError",
     "evalue": "could not convert string to float: '[109, 146, 163, 173, 174, 181, 174, 164, 138, 139, 110, 86, 73, 72, 68, 68, 62, 64, 65, 76, 360, 99, 113, 115, 149, 169, 176, 182, 183, 183, 181, 176, 174, 169, 168, 88, 169, 88, 161, 159, 126, 93, 89, 83, 98, 127, 132, 163, 167, 180, 201, 203, 199, 200, 200, 199, 209, 177, 164, 152]'",
     "output_type": "error",
     "traceback": [
      "\u001b[1;31m---------------------------------------------------------------------------\u001b[0m",
      "\u001b[1;31mValueError\u001b[0m                                Traceback (most recent call last)",
      "\u001b[1;32mf:\\SJSU_Academics\\Spring 23\\295B\\Codebase\\Distress-Signal-Recognition\\WaveDetection_ML\\ML\\train.ipynb Cell 14\u001b[0m in \u001b[0;36m<module>\u001b[1;34m\u001b[0m\n\u001b[0;32m      <a href='vscode-notebook-cell:/f%3A/SJSU_Academics/Spring%2023/295B/Codebase/Distress-Signal-Recognition/WaveDetection_ML/ML/train.ipynb#X16sZmlsZQ%3D%3D?line=0'>1</a>\u001b[0m decision_tree \u001b[39m=\u001b[39m DecisionTreeClassifier()\n\u001b[1;32m----> <a href='vscode-notebook-cell:/f%3A/SJSU_Academics/Spring%2023/295B/Codebase/Distress-Signal-Recognition/WaveDetection_ML/ML/train.ipynb#X16sZmlsZQ%3D%3D?line=1'>2</a>\u001b[0m decision_tree\u001b[39m.\u001b[39;49mfit(X_train,y_train)\n",
      "File \u001b[1;32mc:\\Python310\\lib\\site-packages\\sklearn\\tree\\_classes.py:889\u001b[0m, in \u001b[0;36mDecisionTreeClassifier.fit\u001b[1;34m(self, X, y, sample_weight, check_input)\u001b[0m\n\u001b[0;32m    859\u001b[0m \u001b[39mdef\u001b[39;00m \u001b[39mfit\u001b[39m(\u001b[39mself\u001b[39m, X, y, sample_weight\u001b[39m=\u001b[39m\u001b[39mNone\u001b[39;00m, check_input\u001b[39m=\u001b[39m\u001b[39mTrue\u001b[39;00m):\n\u001b[0;32m    860\u001b[0m     \u001b[39m\"\"\"Build a decision tree classifier from the training set (X, y).\u001b[39;00m\n\u001b[0;32m    861\u001b[0m \n\u001b[0;32m    862\u001b[0m \u001b[39m    Parameters\u001b[39;00m\n\u001b[1;32m   (...)\u001b[0m\n\u001b[0;32m    886\u001b[0m \u001b[39m        Fitted estimator.\u001b[39;00m\n\u001b[0;32m    887\u001b[0m \u001b[39m    \"\"\"\u001b[39;00m\n\u001b[1;32m--> 889\u001b[0m     \u001b[39msuper\u001b[39;49m()\u001b[39m.\u001b[39;49mfit(\n\u001b[0;32m    890\u001b[0m         X,\n\u001b[0;32m    891\u001b[0m         y,\n\u001b[0;32m    892\u001b[0m         sample_weight\u001b[39m=\u001b[39;49msample_weight,\n\u001b[0;32m    893\u001b[0m         check_input\u001b[39m=\u001b[39;49mcheck_input,\n\u001b[0;32m    894\u001b[0m     )\n\u001b[0;32m    895\u001b[0m     \u001b[39mreturn\u001b[39;00m \u001b[39mself\u001b[39m\n",
      "File \u001b[1;32mc:\\Python310\\lib\\site-packages\\sklearn\\tree\\_classes.py:186\u001b[0m, in \u001b[0;36mBaseDecisionTree.fit\u001b[1;34m(self, X, y, sample_weight, check_input)\u001b[0m\n\u001b[0;32m    184\u001b[0m check_X_params \u001b[39m=\u001b[39m \u001b[39mdict\u001b[39m(dtype\u001b[39m=\u001b[39mDTYPE, accept_sparse\u001b[39m=\u001b[39m\u001b[39m\"\u001b[39m\u001b[39mcsc\u001b[39m\u001b[39m\"\u001b[39m)\n\u001b[0;32m    185\u001b[0m check_y_params \u001b[39m=\u001b[39m \u001b[39mdict\u001b[39m(ensure_2d\u001b[39m=\u001b[39m\u001b[39mFalse\u001b[39;00m, dtype\u001b[39m=\u001b[39m\u001b[39mNone\u001b[39;00m)\n\u001b[1;32m--> 186\u001b[0m X, y \u001b[39m=\u001b[39m \u001b[39mself\u001b[39;49m\u001b[39m.\u001b[39;49m_validate_data(\n\u001b[0;32m    187\u001b[0m     X, y, validate_separately\u001b[39m=\u001b[39;49m(check_X_params, check_y_params)\n\u001b[0;32m    188\u001b[0m )\n\u001b[0;32m    189\u001b[0m \u001b[39mif\u001b[39;00m issparse(X):\n\u001b[0;32m    190\u001b[0m     X\u001b[39m.\u001b[39msort_indices()\n",
      "File \u001b[1;32mc:\\Python310\\lib\\site-packages\\sklearn\\base.py:579\u001b[0m, in \u001b[0;36mBaseEstimator._validate_data\u001b[1;34m(self, X, y, reset, validate_separately, **check_params)\u001b[0m\n\u001b[0;32m    577\u001b[0m \u001b[39mif\u001b[39;00m \u001b[39m\"\u001b[39m\u001b[39mestimator\u001b[39m\u001b[39m\"\u001b[39m \u001b[39mnot\u001b[39;00m \u001b[39min\u001b[39;00m check_X_params:\n\u001b[0;32m    578\u001b[0m     check_X_params \u001b[39m=\u001b[39m {\u001b[39m*\u001b[39m\u001b[39m*\u001b[39mdefault_check_params, \u001b[39m*\u001b[39m\u001b[39m*\u001b[39mcheck_X_params}\n\u001b[1;32m--> 579\u001b[0m X \u001b[39m=\u001b[39m check_array(X, input_name\u001b[39m=\u001b[39m\u001b[39m\"\u001b[39m\u001b[39mX\u001b[39m\u001b[39m\"\u001b[39m, \u001b[39m*\u001b[39m\u001b[39m*\u001b[39mcheck_X_params)\n\u001b[0;32m    580\u001b[0m \u001b[39mif\u001b[39;00m \u001b[39m\"\u001b[39m\u001b[39mestimator\u001b[39m\u001b[39m\"\u001b[39m \u001b[39mnot\u001b[39;00m \u001b[39min\u001b[39;00m check_y_params:\n\u001b[0;32m    581\u001b[0m     check_y_params \u001b[39m=\u001b[39m {\u001b[39m*\u001b[39m\u001b[39m*\u001b[39mdefault_check_params, \u001b[39m*\u001b[39m\u001b[39m*\u001b[39mcheck_y_params}\n",
      "File \u001b[1;32mc:\\Python310\\lib\\site-packages\\sklearn\\utils\\validation.py:879\u001b[0m, in \u001b[0;36mcheck_array\u001b[1;34m(array, accept_sparse, accept_large_sparse, dtype, order, copy, force_all_finite, ensure_2d, allow_nd, ensure_min_samples, ensure_min_features, estimator, input_name)\u001b[0m\n\u001b[0;32m    877\u001b[0m         array \u001b[39m=\u001b[39m xp\u001b[39m.\u001b[39mastype(array, dtype, copy\u001b[39m=\u001b[39m\u001b[39mFalse\u001b[39;00m)\n\u001b[0;32m    878\u001b[0m     \u001b[39melse\u001b[39;00m:\n\u001b[1;32m--> 879\u001b[0m         array \u001b[39m=\u001b[39m _asarray_with_order(array, order\u001b[39m=\u001b[39;49morder, dtype\u001b[39m=\u001b[39;49mdtype, xp\u001b[39m=\u001b[39;49mxp)\n\u001b[0;32m    880\u001b[0m \u001b[39mexcept\u001b[39;00m ComplexWarning \u001b[39mas\u001b[39;00m complex_warning:\n\u001b[0;32m    881\u001b[0m     \u001b[39mraise\u001b[39;00m \u001b[39mValueError\u001b[39;00m(\n\u001b[0;32m    882\u001b[0m         \u001b[39m\"\u001b[39m\u001b[39mComplex data not supported\u001b[39m\u001b[39m\\n\u001b[39;00m\u001b[39m{}\u001b[39;00m\u001b[39m\\n\u001b[39;00m\u001b[39m\"\u001b[39m\u001b[39m.\u001b[39mformat(array)\n\u001b[0;32m    883\u001b[0m     ) \u001b[39mfrom\u001b[39;00m \u001b[39mcomplex_warning\u001b[39;00m\n",
      "File \u001b[1;32mc:\\Python310\\lib\\site-packages\\sklearn\\utils\\_array_api.py:185\u001b[0m, in \u001b[0;36m_asarray_with_order\u001b[1;34m(array, dtype, order, copy, xp)\u001b[0m\n\u001b[0;32m    182\u001b[0m     xp, _ \u001b[39m=\u001b[39m get_namespace(array)\n\u001b[0;32m    183\u001b[0m \u001b[39mif\u001b[39;00m xp\u001b[39m.\u001b[39m\u001b[39m__name__\u001b[39m \u001b[39min\u001b[39;00m {\u001b[39m\"\u001b[39m\u001b[39mnumpy\u001b[39m\u001b[39m\"\u001b[39m, \u001b[39m\"\u001b[39m\u001b[39mnumpy.array_api\u001b[39m\u001b[39m\"\u001b[39m}:\n\u001b[0;32m    184\u001b[0m     \u001b[39m# Use NumPy API to support order\u001b[39;00m\n\u001b[1;32m--> 185\u001b[0m     array \u001b[39m=\u001b[39m numpy\u001b[39m.\u001b[39;49masarray(array, order\u001b[39m=\u001b[39;49morder, dtype\u001b[39m=\u001b[39;49mdtype)\n\u001b[0;32m    186\u001b[0m     \u001b[39mreturn\u001b[39;00m xp\u001b[39m.\u001b[39masarray(array, copy\u001b[39m=\u001b[39mcopy)\n\u001b[0;32m    187\u001b[0m \u001b[39melse\u001b[39;00m:\n",
      "File \u001b[1;32mc:\\Python310\\lib\\site-packages\\pandas\\core\\generic.py:2070\u001b[0m, in \u001b[0;36mNDFrame.__array__\u001b[1;34m(self, dtype)\u001b[0m\n\u001b[0;32m   2069\u001b[0m \u001b[39mdef\u001b[39;00m \u001b[39m__array__\u001b[39m(\u001b[39mself\u001b[39m, dtype: npt\u001b[39m.\u001b[39mDTypeLike \u001b[39m|\u001b[39m \u001b[39mNone\u001b[39;00m \u001b[39m=\u001b[39m \u001b[39mNone\u001b[39;00m) \u001b[39m-\u001b[39m\u001b[39m>\u001b[39m np\u001b[39m.\u001b[39mndarray:\n\u001b[1;32m-> 2070\u001b[0m     \u001b[39mreturn\u001b[39;00m np\u001b[39m.\u001b[39;49masarray(\u001b[39mself\u001b[39;49m\u001b[39m.\u001b[39;49m_values, dtype\u001b[39m=\u001b[39;49mdtype)\n",
      "\u001b[1;31mValueError\u001b[0m: could not convert string to float: '[109, 146, 163, 173, 174, 181, 174, 164, 138, 139, 110, 86, 73, 72, 68, 68, 62, 64, 65, 76, 360, 99, 113, 115, 149, 169, 176, 182, 183, 183, 181, 176, 174, 169, 168, 88, 169, 88, 161, 159, 126, 93, 89, 83, 98, 127, 132, 163, 167, 180, 201, 203, 199, 200, 200, 199, 209, 177, 164, 152]'"
     ]
    }
   ],
   "source": [
    "decision_tree = DecisionTreeClassifier()\n",
    "decision_tree.fit(X_train,y_train)"
   ]
  },
  {
   "cell_type": "code",
   "execution_count": null,
   "id": "2cfeb4cc",
   "metadata": {},
   "outputs": [
    {
     "ename": "ValueError",
     "evalue": "could not convert string to float: '[360, 91, 110, 126, 141, 144, 144, 143, 138, 123, 104, 79, 71, 54, 64, 69, 72, 81, 101, 125, 141, 147, 149, 149, 144, 142, 133, 122, 84, 79, 67, 66, 61, 63, 63, 72, 78, 78, 101, 119, 121, 137, 160, 172, 174, 172, 172, 171, 168, 166, 137, 120, 118, 109, 94, 93, 85, 80, 85, 100]'",
     "output_type": "error",
     "traceback": [
      "\u001b[1;31m---------------------------------------------------------------------------\u001b[0m",
      "\u001b[1;31mValueError\u001b[0m                                Traceback (most recent call last)",
      "\u001b[1;32mf:\\SJSU_Academics\\Spring 23\\295B\\Codebase\\Distress-Signal-Recognition\\WaveDetection_ML\\ML\\train.ipynb Cell 15\u001b[0m in \u001b[0;36m<module>\u001b[1;34m\u001b[0m\n\u001b[1;32m----> <a href='vscode-notebook-cell:/f%3A/SJSU_Academics/Spring%2023/295B/Codebase/Distress-Signal-Recognition/WaveDetection_ML/ML/train.ipynb#X20sZmlsZQ%3D%3D?line=0'>1</a>\u001b[0m y_pred_dt \u001b[39m=\u001b[39m decision_tree\u001b[39m.\u001b[39;49mpredict(X_test)\n\u001b[0;32m      <a href='vscode-notebook-cell:/f%3A/SJSU_Academics/Spring%2023/295B/Codebase/Distress-Signal-Recognition/WaveDetection_ML/ML/train.ipynb#X20sZmlsZQ%3D%3D?line=1'>2</a>\u001b[0m \u001b[39mprint\u001b[39m(\u001b[39m'\u001b[39m\u001b[39mAccuracy score decision tree: \u001b[39m\u001b[39m'\u001b[39m, \u001b[39mround\u001b[39m(accuracy_score(y_test, y_pred_dt),\u001b[39m4\u001b[39m))\n",
      "File \u001b[1;32mc:\\Python310\\lib\\site-packages\\sklearn\\tree\\_classes.py:426\u001b[0m, in \u001b[0;36mBaseDecisionTree.predict\u001b[1;34m(self, X, check_input)\u001b[0m\n\u001b[0;32m    403\u001b[0m \u001b[39m\"\"\"Predict class or regression value for X.\u001b[39;00m\n\u001b[0;32m    404\u001b[0m \n\u001b[0;32m    405\u001b[0m \u001b[39mFor a classification model, the predicted class for each sample in X is\u001b[39;00m\n\u001b[1;32m   (...)\u001b[0m\n\u001b[0;32m    423\u001b[0m \u001b[39m    The predicted classes, or the predict values.\u001b[39;00m\n\u001b[0;32m    424\u001b[0m \u001b[39m\"\"\"\u001b[39;00m\n\u001b[0;32m    425\u001b[0m check_is_fitted(\u001b[39mself\u001b[39m)\n\u001b[1;32m--> 426\u001b[0m X \u001b[39m=\u001b[39m \u001b[39mself\u001b[39;49m\u001b[39m.\u001b[39;49m_validate_X_predict(X, check_input)\n\u001b[0;32m    427\u001b[0m proba \u001b[39m=\u001b[39m \u001b[39mself\u001b[39m\u001b[39m.\u001b[39mtree_\u001b[39m.\u001b[39mpredict(X)\n\u001b[0;32m    428\u001b[0m n_samples \u001b[39m=\u001b[39m X\u001b[39m.\u001b[39mshape[\u001b[39m0\u001b[39m]\n",
      "File \u001b[1;32mc:\\Python310\\lib\\site-packages\\sklearn\\tree\\_classes.py:392\u001b[0m, in \u001b[0;36mBaseDecisionTree._validate_X_predict\u001b[1;34m(self, X, check_input)\u001b[0m\n\u001b[0;32m    390\u001b[0m \u001b[39m\"\"\"Validate the training data on predict (probabilities).\"\"\"\u001b[39;00m\n\u001b[0;32m    391\u001b[0m \u001b[39mif\u001b[39;00m check_input:\n\u001b[1;32m--> 392\u001b[0m     X \u001b[39m=\u001b[39m \u001b[39mself\u001b[39;49m\u001b[39m.\u001b[39;49m_validate_data(X, dtype\u001b[39m=\u001b[39;49mDTYPE, accept_sparse\u001b[39m=\u001b[39;49m\u001b[39m\"\u001b[39;49m\u001b[39mcsr\u001b[39;49m\u001b[39m\"\u001b[39;49m, reset\u001b[39m=\u001b[39;49m\u001b[39mFalse\u001b[39;49;00m)\n\u001b[0;32m    393\u001b[0m     \u001b[39mif\u001b[39;00m issparse(X) \u001b[39mand\u001b[39;00m (\n\u001b[0;32m    394\u001b[0m         X\u001b[39m.\u001b[39mindices\u001b[39m.\u001b[39mdtype \u001b[39m!=\u001b[39m np\u001b[39m.\u001b[39mintc \u001b[39mor\u001b[39;00m X\u001b[39m.\u001b[39mindptr\u001b[39m.\u001b[39mdtype \u001b[39m!=\u001b[39m np\u001b[39m.\u001b[39mintc\n\u001b[0;32m    395\u001b[0m     ):\n\u001b[0;32m    396\u001b[0m         \u001b[39mraise\u001b[39;00m \u001b[39mValueError\u001b[39;00m(\u001b[39m\"\u001b[39m\u001b[39mNo support for np.int64 index based sparse matrices\u001b[39m\u001b[39m\"\u001b[39m)\n",
      "File \u001b[1;32mc:\\Python310\\lib\\site-packages\\sklearn\\base.py:565\u001b[0m, in \u001b[0;36mBaseEstimator._validate_data\u001b[1;34m(self, X, y, reset, validate_separately, **check_params)\u001b[0m\n\u001b[0;32m    563\u001b[0m     \u001b[39mraise\u001b[39;00m \u001b[39mValueError\u001b[39;00m(\u001b[39m\"\u001b[39m\u001b[39mValidation should be done on X, y or both.\u001b[39m\u001b[39m\"\u001b[39m)\n\u001b[0;32m    564\u001b[0m \u001b[39melif\u001b[39;00m \u001b[39mnot\u001b[39;00m no_val_X \u001b[39mand\u001b[39;00m no_val_y:\n\u001b[1;32m--> 565\u001b[0m     X \u001b[39m=\u001b[39m check_array(X, input_name\u001b[39m=\u001b[39m\u001b[39m\"\u001b[39m\u001b[39mX\u001b[39m\u001b[39m\"\u001b[39m, \u001b[39m*\u001b[39m\u001b[39m*\u001b[39mcheck_params)\n\u001b[0;32m    566\u001b[0m     out \u001b[39m=\u001b[39m X\n\u001b[0;32m    567\u001b[0m \u001b[39melif\u001b[39;00m no_val_X \u001b[39mand\u001b[39;00m \u001b[39mnot\u001b[39;00m no_val_y:\n",
      "File \u001b[1;32mc:\\Python310\\lib\\site-packages\\sklearn\\utils\\validation.py:879\u001b[0m, in \u001b[0;36mcheck_array\u001b[1;34m(array, accept_sparse, accept_large_sparse, dtype, order, copy, force_all_finite, ensure_2d, allow_nd, ensure_min_samples, ensure_min_features, estimator, input_name)\u001b[0m\n\u001b[0;32m    877\u001b[0m         array \u001b[39m=\u001b[39m xp\u001b[39m.\u001b[39mastype(array, dtype, copy\u001b[39m=\u001b[39m\u001b[39mFalse\u001b[39;00m)\n\u001b[0;32m    878\u001b[0m     \u001b[39melse\u001b[39;00m:\n\u001b[1;32m--> 879\u001b[0m         array \u001b[39m=\u001b[39m _asarray_with_order(array, order\u001b[39m=\u001b[39;49morder, dtype\u001b[39m=\u001b[39;49mdtype, xp\u001b[39m=\u001b[39;49mxp)\n\u001b[0;32m    880\u001b[0m \u001b[39mexcept\u001b[39;00m ComplexWarning \u001b[39mas\u001b[39;00m complex_warning:\n\u001b[0;32m    881\u001b[0m     \u001b[39mraise\u001b[39;00m \u001b[39mValueError\u001b[39;00m(\n\u001b[0;32m    882\u001b[0m         \u001b[39m\"\u001b[39m\u001b[39mComplex data not supported\u001b[39m\u001b[39m\\n\u001b[39;00m\u001b[39m{}\u001b[39;00m\u001b[39m\\n\u001b[39;00m\u001b[39m\"\u001b[39m\u001b[39m.\u001b[39mformat(array)\n\u001b[0;32m    883\u001b[0m     ) \u001b[39mfrom\u001b[39;00m \u001b[39mcomplex_warning\u001b[39;00m\n",
      "File \u001b[1;32mc:\\Python310\\lib\\site-packages\\sklearn\\utils\\_array_api.py:185\u001b[0m, in \u001b[0;36m_asarray_with_order\u001b[1;34m(array, dtype, order, copy, xp)\u001b[0m\n\u001b[0;32m    182\u001b[0m     xp, _ \u001b[39m=\u001b[39m get_namespace(array)\n\u001b[0;32m    183\u001b[0m \u001b[39mif\u001b[39;00m xp\u001b[39m.\u001b[39m\u001b[39m__name__\u001b[39m \u001b[39min\u001b[39;00m {\u001b[39m\"\u001b[39m\u001b[39mnumpy\u001b[39m\u001b[39m\"\u001b[39m, \u001b[39m\"\u001b[39m\u001b[39mnumpy.array_api\u001b[39m\u001b[39m\"\u001b[39m}:\n\u001b[0;32m    184\u001b[0m     \u001b[39m# Use NumPy API to support order\u001b[39;00m\n\u001b[1;32m--> 185\u001b[0m     array \u001b[39m=\u001b[39m numpy\u001b[39m.\u001b[39;49masarray(array, order\u001b[39m=\u001b[39;49morder, dtype\u001b[39m=\u001b[39;49mdtype)\n\u001b[0;32m    186\u001b[0m     \u001b[39mreturn\u001b[39;00m xp\u001b[39m.\u001b[39masarray(array, copy\u001b[39m=\u001b[39mcopy)\n\u001b[0;32m    187\u001b[0m \u001b[39melse\u001b[39;00m:\n",
      "File \u001b[1;32mc:\\Python310\\lib\\site-packages\\pandas\\core\\generic.py:2070\u001b[0m, in \u001b[0;36mNDFrame.__array__\u001b[1;34m(self, dtype)\u001b[0m\n\u001b[0;32m   2069\u001b[0m \u001b[39mdef\u001b[39;00m \u001b[39m__array__\u001b[39m(\u001b[39mself\u001b[39m, dtype: npt\u001b[39m.\u001b[39mDTypeLike \u001b[39m|\u001b[39m \u001b[39mNone\u001b[39;00m \u001b[39m=\u001b[39m \u001b[39mNone\u001b[39;00m) \u001b[39m-\u001b[39m\u001b[39m>\u001b[39m np\u001b[39m.\u001b[39mndarray:\n\u001b[1;32m-> 2070\u001b[0m     \u001b[39mreturn\u001b[39;00m np\u001b[39m.\u001b[39;49masarray(\u001b[39mself\u001b[39;49m\u001b[39m.\u001b[39;49m_values, dtype\u001b[39m=\u001b[39;49mdtype)\n",
      "\u001b[1;31mValueError\u001b[0m: could not convert string to float: '[360, 91, 110, 126, 141, 144, 144, 143, 138, 123, 104, 79, 71, 54, 64, 69, 72, 81, 101, 125, 141, 147, 149, 149, 144, 142, 133, 122, 84, 79, 67, 66, 61, 63, 63, 72, 78, 78, 101, 119, 121, 137, 160, 172, 174, 172, 172, 171, 168, 166, 137, 120, 118, 109, 94, 93, 85, 80, 85, 100]'"
     ]
    }
   ],
   "source": [
    "y_pred_dt = decision_tree.predict(X_test)\n",
    "print('Accuracy score decision tree: ', round(accuracy_score(y_test, y_pred_dt),4))"
   ]
  },
  {
   "cell_type": "markdown",
   "id": "00c7c2b7",
   "metadata": {},
   "source": [
    "## Random Forest Classifier"
   ]
  },
  {
   "cell_type": "code",
   "execution_count": 32,
   "id": "fded053f",
   "metadata": {},
   "outputs": [
    {
     "name": "stdout",
     "output_type": "stream",
     "text": [
      "ERROR! Session/line number was not unique in database. History logging moved to new session 30\n"
     ]
    }
   ],
   "source": [
    "#RandomForestClassifier\n",
    "model_rf=RandomForestClassifier(criterion='gini', max_depth= 20)\n",
    "model_rf.fit(X_train,y_train,)\n",
    "#plt.barh(iris.feature_names, model.feature_importances_)"
   ]
  },
  {
   "cell_type": "code",
   "execution_count": null,
   "id": "03131bd0",
   "metadata": {},
   "outputs": [
    {
     "ename": "NameError",
     "evalue": "name 'model_rf' is not defined",
     "output_type": "error",
     "traceback": [
      "\u001b[1;31m---------------------------------------------------------------------------\u001b[0m",
      "\u001b[1;31mNameError\u001b[0m                                 Traceback (most recent call last)",
      "\u001b[1;32mf:\\SJSU_Academics\\Spring 23\\295B\\Codebase\\Distress-Signal-Recognition\\WaveDetection_ML\\ML\\train.ipynb Cell 18\u001b[0m in \u001b[0;36m<module>\u001b[1;34m\u001b[0m\n\u001b[1;32m----> <a href='vscode-notebook-cell:/f%3A/SJSU_Academics/Spring%2023/295B/Codebase/Distress-Signal-Recognition/WaveDetection_ML/ML/train.ipynb#X23sZmlsZQ%3D%3D?line=0'>1</a>\u001b[0m y_pred_rf\u001b[39m=\u001b[39mmodel_rf\u001b[39m.\u001b[39mpredict(X_test)\n\u001b[0;32m      <a href='vscode-notebook-cell:/f%3A/SJSU_Academics/Spring%2023/295B/Codebase/Distress-Signal-Recognition/WaveDetection_ML/ML/train.ipynb#X23sZmlsZQ%3D%3D?line=1'>2</a>\u001b[0m \u001b[39mprint\u001b[39m(\u001b[39m'\u001b[39m\u001b[39mAccuracy score Random Forest : \u001b[39m\u001b[39m'\u001b[39m, \u001b[39mround\u001b[39m(accuracy_score(y_test, y_pred_rf),\u001b[39m4\u001b[39m))\n",
      "\u001b[1;31mNameError\u001b[0m: name 'model_rf' is not defined"
     ]
    }
   ],
   "source": [
    "y_pred_rf=model_rf.predict(X_test)\n",
    "print('Accuracy score Random Forest : ', round(accuracy_score(y_test, y_pred_rf),4))"
   ]
  },
  {
   "cell_type": "markdown",
   "id": "e934f194",
   "metadata": {},
   "source": [
    "## Saving the models"
   ]
  },
  {
   "cell_type": "code",
   "execution_count": null,
   "id": "d0a9fb11",
   "metadata": {},
   "outputs": [
    {
     "data": {
      "text/plain": [
       "['model_random_forest.sav']"
      ]
     },
     "execution_count": 15,
     "metadata": {},
     "output_type": "execute_result"
    }
   ],
   "source": [
    "import joblib\n",
    "# save the models to disk\n",
    "joblib.dump(model_logistic, 'model_logistic.sav')\n",
    "joblib.dump(decision_tree, 'model_decision_tree.sav')\n",
    "joblib.dump(model_rf, 'model_random_forest.sav')\n"
   ]
  }
 ],
 "metadata": {
  "kernelspec": {
   "display_name": "Python 3.9.10 64-bit",
   "language": "python",
   "name": "python3"
  },
  "language_info": {
   "codemirror_mode": {
    "name": "ipython",
    "version": 3
   },
   "file_extension": ".py",
   "mimetype": "text/x-python",
   "name": "python",
   "nbconvert_exporter": "python",
   "pygments_lexer": "ipython3",
   "version": "3.10.5"
  },
  "vscode": {
   "interpreter": {
    "hash": "b0fa6594d8f4cbf19f97940f81e996739fb7646882a419484c72d19e05852a7e"
   }
  }
 },
 "nbformat": 4,
 "nbformat_minor": 5
}
